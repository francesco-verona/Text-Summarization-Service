{
 "cells": [
  {
   "cell_type": "markdown",
   "id": "52273cc0",
   "metadata": {},
   "source": [
    "## Caricamento del dataset e del tokenizer\n",
    "estrazione della lunghezza dei token per ogni articolo, unione di tutte le sezioni train, validation, test."
   ]
  },
  {
   "cell_type": "code",
   "execution_count": 1,
   "id": "39db2169",
   "metadata": {},
   "outputs": [
    {
     "name": "stdout",
     "output_type": "stream",
     "text": [
      "<class 'datasets.arrow_dataset.Dataset'>\n"
     ]
    }
   ],
   "source": [
    "from datasets import load_dataset, concatenate_datasets\n",
    "from transformers import AutoTokenizer\n",
    "\n",
    "model_name = \"facebook/bart-large\"\n",
    "tokenizer = AutoTokenizer.from_pretrained(model_name)\n",
    "# Da un oggetto DatasetDict estraiamo un solo Dataset con tutte le sezioni che useremo\n",
    "cnn_dataset = load_dataset(\"abisee/cnn_dailymail\", \"3.0.0\")\n",
    "def add_token_length(batch):\n",
    "    # Tokenizza il batch\n",
    "    tokens = tokenizer(batch[\"article\"], truncation=False)\n",
    "    # Conta i token\n",
    "    return {\"article_token_len\": [len(ids) for ids in tokens[\"input_ids\"]]}\n",
    "processed = cnn_dataset.map(add_token_length, batched=True, batch_size=1000)\n",
    "cnn_dataset = concatenate_datasets([processed[\"train\"], processed[\"validation\"], processed[\"test\"]])\n",
    "print(type(cnn_dataset))"
   ]
  },
  {
   "cell_type": "markdown",
   "id": "e0e59846",
   "metadata": {},
   "source": [
    "## Data cleaning con pandas\n",
    "eclusione della colonna id, esclusione delle righe con campi vuoti"
   ]
  },
  {
   "cell_type": "code",
   "execution_count": 2,
   "id": "28a25860",
   "metadata": {},
   "outputs": [
    {
     "name": "stdout",
     "output_type": "stream",
     "text": [
      "<class 'pandas.core.frame.DataFrame'>\n"
     ]
    },
    {
     "data": {
      "text/html": [
       "<div>\n",
       "<style scoped>\n",
       "    .dataframe tbody tr th:only-of-type {\n",
       "        vertical-align: middle;\n",
       "    }\n",
       "\n",
       "    .dataframe tbody tr th {\n",
       "        vertical-align: top;\n",
       "    }\n",
       "\n",
       "    .dataframe thead th {\n",
       "        text-align: right;\n",
       "    }\n",
       "</style>\n",
       "<table border=\"1\" class=\"dataframe\">\n",
       "  <thead>\n",
       "    <tr style=\"text-align: right;\">\n",
       "      <th></th>\n",
       "      <th>article</th>\n",
       "      <th>highlights</th>\n",
       "      <th>id</th>\n",
       "      <th>article_token_len</th>\n",
       "    </tr>\n",
       "  </thead>\n",
       "  <tbody>\n",
       "    <tr>\n",
       "      <th>0</th>\n",
       "      <td>LONDON, England (Reuters) -- Harry Potter star...</td>\n",
       "      <td>Harry Potter star Daniel Radcliffe gets £20M f...</td>\n",
       "      <td>42c027e4ff9730fbb3de84c1af0d2c506e41c3e4</td>\n",
       "      <td>565</td>\n",
       "    </tr>\n",
       "    <tr>\n",
       "      <th>1</th>\n",
       "      <td>Editor's note: In our Behind the Scenes series...</td>\n",
       "      <td>Mentally ill inmates in Miami are housed on th...</td>\n",
       "      <td>ee8871b15c50d0db17b0179a6d2beab35065f1e9</td>\n",
       "      <td>888</td>\n",
       "    </tr>\n",
       "    <tr>\n",
       "      <th>2</th>\n",
       "      <td>MINNEAPOLIS, Minnesota (CNN) -- Drivers who we...</td>\n",
       "      <td>NEW: \"I thought I was going to die,\" driver sa...</td>\n",
       "      <td>06352019a19ae31e527f37f7571c6dd7f0c5da37</td>\n",
       "      <td>919</td>\n",
       "    </tr>\n",
       "    <tr>\n",
       "      <th>3</th>\n",
       "      <td>WASHINGTON (CNN) -- Doctors removed five small...</td>\n",
       "      <td>Five small polyps found during procedure; \"non...</td>\n",
       "      <td>24521a2abb2e1f5e34e6824e0f9e56904a2b0e88</td>\n",
       "      <td>531</td>\n",
       "    </tr>\n",
       "    <tr>\n",
       "      <th>4</th>\n",
       "      <td>(CNN)  -- The National Football League has ind...</td>\n",
       "      <td>NEW: NFL chief, Atlanta Falcons owner critical...</td>\n",
       "      <td>7fe70cc8b12fab2d0a258fababf7d9c6b5e1262a</td>\n",
       "      <td>1196</td>\n",
       "    </tr>\n",
       "  </tbody>\n",
       "</table>\n",
       "</div>"
      ],
      "text/plain": [
       "                                             article  \\\n",
       "0  LONDON, England (Reuters) -- Harry Potter star...   \n",
       "1  Editor's note: In our Behind the Scenes series...   \n",
       "2  MINNEAPOLIS, Minnesota (CNN) -- Drivers who we...   \n",
       "3  WASHINGTON (CNN) -- Doctors removed five small...   \n",
       "4  (CNN)  -- The National Football League has ind...   \n",
       "\n",
       "                                          highlights  \\\n",
       "0  Harry Potter star Daniel Radcliffe gets £20M f...   \n",
       "1  Mentally ill inmates in Miami are housed on th...   \n",
       "2  NEW: \"I thought I was going to die,\" driver sa...   \n",
       "3  Five small polyps found during procedure; \"non...   \n",
       "4  NEW: NFL chief, Atlanta Falcons owner critical...   \n",
       "\n",
       "                                         id  article_token_len  \n",
       "0  42c027e4ff9730fbb3de84c1af0d2c506e41c3e4                565  \n",
       "1  ee8871b15c50d0db17b0179a6d2beab35065f1e9                888  \n",
       "2  06352019a19ae31e527f37f7571c6dd7f0c5da37                919  \n",
       "3  24521a2abb2e1f5e34e6824e0f9e56904a2b0e88                531  \n",
       "4  7fe70cc8b12fab2d0a258fababf7d9c6b5e1262a               1196  "
      ]
     },
     "metadata": {},
     "output_type": "display_data"
    },
    {
     "data": {
      "text/html": [
       "<div>\n",
       "<style scoped>\n",
       "    .dataframe tbody tr th:only-of-type {\n",
       "        vertical-align: middle;\n",
       "    }\n",
       "\n",
       "    .dataframe tbody tr th {\n",
       "        vertical-align: top;\n",
       "    }\n",
       "\n",
       "    .dataframe thead th {\n",
       "        text-align: right;\n",
       "    }\n",
       "</style>\n",
       "<table border=\"1\" class=\"dataframe\">\n",
       "  <thead>\n",
       "    <tr style=\"text-align: right;\">\n",
       "      <th></th>\n",
       "      <th>article</th>\n",
       "      <th>highlights</th>\n",
       "      <th>article_token_len</th>\n",
       "    </tr>\n",
       "  </thead>\n",
       "  <tbody>\n",
       "    <tr>\n",
       "      <th>0</th>\n",
       "      <td>LONDON, England (Reuters) -- Harry Potter star...</td>\n",
       "      <td>Harry Potter star Daniel Radcliffe gets £20M f...</td>\n",
       "      <td>565</td>\n",
       "    </tr>\n",
       "    <tr>\n",
       "      <th>1</th>\n",
       "      <td>Editor's note: In our Behind the Scenes series...</td>\n",
       "      <td>Mentally ill inmates in Miami are housed on th...</td>\n",
       "      <td>888</td>\n",
       "    </tr>\n",
       "    <tr>\n",
       "      <th>2</th>\n",
       "      <td>MINNEAPOLIS, Minnesota (CNN) -- Drivers who we...</td>\n",
       "      <td>NEW: \"I thought I was going to die,\" driver sa...</td>\n",
       "      <td>919</td>\n",
       "    </tr>\n",
       "    <tr>\n",
       "      <th>3</th>\n",
       "      <td>WASHINGTON (CNN) -- Doctors removed five small...</td>\n",
       "      <td>Five small polyps found during procedure; \"non...</td>\n",
       "      <td>531</td>\n",
       "    </tr>\n",
       "    <tr>\n",
       "      <th>4</th>\n",
       "      <td>(CNN)  -- The National Football League has ind...</td>\n",
       "      <td>NEW: NFL chief, Atlanta Falcons owner critical...</td>\n",
       "      <td>1196</td>\n",
       "    </tr>\n",
       "  </tbody>\n",
       "</table>\n",
       "</div>"
      ],
      "text/plain": [
       "                                             article  \\\n",
       "0  LONDON, England (Reuters) -- Harry Potter star...   \n",
       "1  Editor's note: In our Behind the Scenes series...   \n",
       "2  MINNEAPOLIS, Minnesota (CNN) -- Drivers who we...   \n",
       "3  WASHINGTON (CNN) -- Doctors removed five small...   \n",
       "4  (CNN)  -- The National Football League has ind...   \n",
       "\n",
       "                                          highlights  article_token_len  \n",
       "0  Harry Potter star Daniel Radcliffe gets £20M f...                565  \n",
       "1  Mentally ill inmates in Miami are housed on th...                888  \n",
       "2  NEW: \"I thought I was going to die,\" driver sa...                919  \n",
       "3  Five small polyps found during procedure; \"non...                531  \n",
       "4  NEW: NFL chief, Atlanta Falcons owner critical...               1196  "
      ]
     },
     "metadata": {},
     "output_type": "display_data"
    }
   ],
   "source": [
    "import pandas as pd\n",
    "# convertiamo il  Dataset in un Dataframe pandas\n",
    "df_cnn_dailymail = cnn_dataset.to_pandas()\n",
    "print(type(df_cnn_dailymail))\n",
    "\n",
    "display(df_cnn_dailymail.head())\n",
    "#rimuoviamo la colonna \"id\" che tanto non ci serve per il nostro scopo\n",
    "df_cnn_dailymail = df_cnn_dailymail.drop(columns=[\"id\"])\n",
    "\n",
    "# rimuoviamo righe con valori vuoti\n",
    "df_cnn_dailymail = df_cnn_dailymail.dropna()\n",
    "\n",
    "display(df_cnn_dailymail.head())\n"
   ]
  },
  {
   "cell_type": "markdown",
   "id": "0a14e09a",
   "metadata": {},
   "source": [
    "### Analisi sulle lunghezze di riassunti e articoli"
   ]
  },
  {
   "cell_type": "code",
   "execution_count": null,
   "id": "18f46220",
   "metadata": {},
   "outputs": [
    {
     "name": "stdout",
     "output_type": "stream",
     "text": [
      "(163, 5)\n"
     ]
    },
    {
     "data": {
      "text/html": [
       "<div>\n",
       "<style scoped>\n",
       "    .dataframe tbody tr th:only-of-type {\n",
       "        vertical-align: middle;\n",
       "    }\n",
       "\n",
       "    .dataframe tbody tr th {\n",
       "        vertical-align: top;\n",
       "    }\n",
       "\n",
       "    .dataframe thead th {\n",
       "        text-align: right;\n",
       "    }\n",
       "</style>\n",
       "<table border=\"1\" class=\"dataframe\">\n",
       "  <thead>\n",
       "    <tr style=\"text-align: right;\">\n",
       "      <th></th>\n",
       "      <th>article</th>\n",
       "      <th>highlights</th>\n",
       "      <th>article_token_len</th>\n",
       "      <th>article_len</th>\n",
       "      <th>highlights_len</th>\n",
       "    </tr>\n",
       "  </thead>\n",
       "  <tbody>\n",
       "    <tr>\n",
       "      <th>244504</th>\n",
       "      <td>Downton Abbey's famously grim butler, Mr Bates .</td>\n",
       "      <td>And now for the good news . . . Following a pa...</td>\n",
       "      <td>15</td>\n",
       "      <td>8</td>\n",
       "      <td>152</td>\n",
       "    </tr>\n",
       "  </tbody>\n",
       "</table>\n",
       "</div>"
      ],
      "text/plain": [
       "                                                 article  \\\n",
       "244504  Downton Abbey's famously grim butler, Mr Bates .   \n",
       "\n",
       "                                               highlights  article_token_len  \\\n",
       "244504  And now for the good news . . . Following a pa...                 15   \n",
       "\n",
       "        article_len  highlights_len  \n",
       "244504            8             152  "
      ]
     },
     "metadata": {},
     "output_type": "display_data"
    },
    {
     "name": "stdout",
     "output_type": "stream",
     "text": [
      "2\n"
     ]
    }
   ],
   "source": [
    "# nuove colonne con le lunghezze di articoli e riassunti\n",
    "df_cnn_dailymail[\"article_len\"] = df_cnn_dailymail[\"article\"].map(lambda x: len(x.split()))\n",
    "df_cnn_dailymail[\"highlights_len\"] = df_cnn_dailymail[\"highlights\"].map(lambda x: len(x.split()))\n",
    "\n",
    "df_troppo_corti = df_cnn_dailymail[df_cnn_dailymail[\"highlights_len\"]/df_cnn_dailymail[\"article_len\"] < 1/100]\n",
    "df_troppo_corti.to_html(\"df_troppo_corti.html\", index=False)\n",
    "print(df_troppo_corti.shape)\n",
    "\n",
    "\n"
   ]
  },
  {
   "cell_type": "code",
   "execution_count": 12,
   "id": "699d32de",
   "metadata": {},
   "outputs": [
    {
     "data": {
      "text/html": [
       "<div>\n",
       "<style scoped>\n",
       "    .dataframe tbody tr th:only-of-type {\n",
       "        vertical-align: middle;\n",
       "    }\n",
       "\n",
       "    .dataframe tbody tr th {\n",
       "        vertical-align: top;\n",
       "    }\n",
       "\n",
       "    .dataframe thead th {\n",
       "        text-align: right;\n",
       "    }\n",
       "</style>\n",
       "<table border=\"1\" class=\"dataframe\">\n",
       "  <thead>\n",
       "    <tr style=\"text-align: right;\">\n",
       "      <th></th>\n",
       "      <th>article</th>\n",
       "      <th>highlights</th>\n",
       "      <th>article_token_len</th>\n",
       "      <th>article_len</th>\n",
       "      <th>highlights_len</th>\n",
       "    </tr>\n",
       "  </thead>\n",
       "  <tbody>\n",
       "    <tr>\n",
       "      <th>0</th>\n",
       "      <td>LONDON, England (Reuters) -- Harry Potter star...</td>\n",
       "      <td>Harry Potter star Daniel Radcliffe gets £20M f...</td>\n",
       "      <td>565</td>\n",
       "      <td>455</td>\n",
       "      <td>41</td>\n",
       "    </tr>\n",
       "    <tr>\n",
       "      <th>1</th>\n",
       "      <td>Editor's note: In our Behind the Scenes series...</td>\n",
       "      <td>Mentally ill inmates in Miami are housed on th...</td>\n",
       "      <td>888</td>\n",
       "      <td>698</td>\n",
       "      <td>49</td>\n",
       "    </tr>\n",
       "    <tr>\n",
       "      <th>2</th>\n",
       "      <td>MINNEAPOLIS, Minnesota (CNN) -- Drivers who we...</td>\n",
       "      <td>NEW: \"I thought I was going to die,\" driver sa...</td>\n",
       "      <td>919</td>\n",
       "      <td>743</td>\n",
       "      <td>43</td>\n",
       "    </tr>\n",
       "    <tr>\n",
       "      <th>3</th>\n",
       "      <td>WASHINGTON (CNN) -- Doctors removed five small...</td>\n",
       "      <td>Five small polyps found during procedure; \"non...</td>\n",
       "      <td>531</td>\n",
       "      <td>414</td>\n",
       "      <td>27</td>\n",
       "    </tr>\n",
       "    <tr>\n",
       "      <th>4</th>\n",
       "      <td>(CNN)  -- The National Football League has ind...</td>\n",
       "      <td>NEW: NFL chief, Atlanta Falcons owner critical...</td>\n",
       "      <td>1196</td>\n",
       "      <td>973</td>\n",
       "      <td>44</td>\n",
       "    </tr>\n",
       "  </tbody>\n",
       "</table>\n",
       "</div>"
      ],
      "text/plain": [
       "                                             article  \\\n",
       "0  LONDON, England (Reuters) -- Harry Potter star...   \n",
       "1  Editor's note: In our Behind the Scenes series...   \n",
       "2  MINNEAPOLIS, Minnesota (CNN) -- Drivers who we...   \n",
       "3  WASHINGTON (CNN) -- Doctors removed five small...   \n",
       "4  (CNN)  -- The National Football League has ind...   \n",
       "\n",
       "                                          highlights  article_token_len  \\\n",
       "0  Harry Potter star Daniel Radcliffe gets £20M f...                565   \n",
       "1  Mentally ill inmates in Miami are housed on th...                888   \n",
       "2  NEW: \"I thought I was going to die,\" driver sa...                919   \n",
       "3  Five small polyps found during procedure; \"non...                531   \n",
       "4  NEW: NFL chief, Atlanta Falcons owner critical...               1196   \n",
       "\n",
       "   article_len  highlights_len  \n",
       "0          455              41  \n",
       "1          698              49  \n",
       "2          743              43  \n",
       "3          414              27  \n",
       "4          973              44  "
      ]
     },
     "metadata": {},
     "output_type": "display_data"
    },
    {
     "name": "stdout",
     "output_type": "stream",
     "text": [
      "Articoli oltre i 1024 token: 93438\n"
     ]
    }
   ],
   "source": [
    "\n",
    "display(df_cnn_dailymail.head())\n",
    "count = (df_cnn_dailymail[\"article_token_len\"] > 1024).sum()\n",
    "print(\"Articoli oltre i 1024 token:\", count)"
   ]
  },
  {
   "cell_type": "code",
   "execution_count": null,
   "id": "dd9c5ed4",
   "metadata": {},
   "outputs": [],
   "source": []
  }
 ],
 "metadata": {
  "kernelspec": {
   "display_name": "NLP_sumarization (3.12.9)",
   "language": "python",
   "name": "python3"
  },
  "language_info": {
   "codemirror_mode": {
    "name": "ipython",
    "version": 3
   },
   "file_extension": ".py",
   "mimetype": "text/x-python",
   "name": "python",
   "nbconvert_exporter": "python",
   "pygments_lexer": "ipython3",
   "version": "3.12.9"
  }
 },
 "nbformat": 4,
 "nbformat_minor": 5
}
