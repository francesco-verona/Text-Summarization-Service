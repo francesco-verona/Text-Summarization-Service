{
 "cells": [
  {
   "cell_type": "code",
   "execution_count": 1,
   "id": "f8060f45",
   "metadata": {},
   "outputs": [
    {
     "name": "stdout",
     "output_type": "stream",
     "text": [
      "Some intro text\n"
     ]
    }
   ],
   "source": [
    "import re\n",
    "\n",
    "def clean_article(text: str) -> str:\n",
    "    # Rimuovi righe \"Updated ...\" (anche DailyMail)\n",
    "    text = re.sub(r\"(?im)^\\s*(last\\s+)?updated.*(\\n|$)\", \"\", text)\n",
    "    text = re.sub(r\"^.*\\([^)]*\\)\\s*--\\s*\", \"\", text)\n",
    "\n",
    "\n",
    "\n",
    "    # Rimuovi intestazioni CNN: luogo + (CNN) --\n",
    "    text = re.sub(r\"^[A-Z ,()'-]{2,100}--\\s*\", \"\", text)\n",
    "    text = re.sub(r\"^.*\\(CNN.*?--\\s*\", \"\", text)\n",
    "\n",
    "\n",
    "    # Rimuovi autore CNN (By John Doe, CNN ...)\n",
    "    text = re.sub(r\"(?i)^by [A-Z][a-z]+.*cnn.*\\n\", \"\", text)\n",
    "\n",
    "    # Rimuovi autore DailyMail (By Nome Cognome for MailOnline / DailyMail)\n",
    "\n",
    "    text = re.sub(r\"(?i)^by .*Daily Mail Reporter .*\\n\", \"\", text)\n",
    "    text = re.sub(r\"(?i)^by [A-Z][a-z]+.*\\n\", \"\", text)\n",
    "\n",
    "    return text.strip()\n",
    "text_1 = \"LONDON, England (CNN Student News) -- Some intro text\"\n",
    "print(clean_article(text_1))\n"
   ]
  },
  {
   "cell_type": "markdown",
   "id": "52273cc0",
   "metadata": {},
   "source": [
    "## Caricamento del dataset e del tokenizer\n",
    "estrazione della lunghezza dei token per ogni articolo, unione di tutte le sezioni train, validation, test."
   ]
  },
  {
   "cell_type": "code",
   "execution_count": 2,
   "id": "9aa81665",
   "metadata": {},
   "outputs": [],
   "source": [
    "from datasets import load_dataset, concatenate_datasets\n",
    "from transformers import AutoTokenizer\n",
    "\n",
    "model_name = \"facebook/bart-large\"\n",
    "tokenizer = AutoTokenizer.from_pretrained(model_name)\n",
    "# Da un oggetto DatasetDict estraiamo un solo Dataset con tutte le sezioni che useremo\n",
    "cnn_dataset = load_dataset(\"abisee/cnn_dailymail\", \"3.0.0\")"
   ]
  },
  {
   "cell_type": "code",
   "execution_count": 3,
   "id": "39db2169",
   "metadata": {},
   "outputs": [
    {
     "data": {
      "application/vnd.jupyter.widget-view+json": {
       "model_id": "2a6d218416964767bb424e0872e103c6",
       "version_major": 2,
       "version_minor": 0
      },
      "text/plain": [
       "Map:   0%|          | 0/287113 [00:00<?, ? examples/s]"
      ]
     },
     "metadata": {},
     "output_type": "display_data"
    },
    {
     "name": "stderr",
     "output_type": "stream",
     "text": [
      "Token indices sequence length is longer than the specified maximum sequence length for this model (1191 > 1024). Running this sequence through the model will result in indexing errors\n"
     ]
    },
    {
     "data": {
      "application/vnd.jupyter.widget-view+json": {
       "model_id": "e9937b4796724c9ca9818a789da855c5",
       "version_major": 2,
       "version_minor": 0
      },
      "text/plain": [
       "Map:   0%|          | 0/13368 [00:00<?, ? examples/s]"
      ]
     },
     "metadata": {},
     "output_type": "display_data"
    },
    {
     "data": {
      "application/vnd.jupyter.widget-view+json": {
       "model_id": "3355810199db49609fddcc5b4aacf5c4",
       "version_major": 2,
       "version_minor": 0
      },
      "text/plain": [
       "Map:   0%|          | 0/11490 [00:00<?, ? examples/s]"
      ]
     },
     "metadata": {},
     "output_type": "display_data"
    },
    {
     "name": "stdout",
     "output_type": "stream",
     "text": [
      "<class 'datasets.arrow_dataset.Dataset'>\n"
     ]
    }
   ],
   "source": [
    "# facciamo pulizia degli articoli e tokenizziamo\n",
    "def preprocess(batch):\n",
    "    cleaned_articles = [clean_article(a) for a in batch[\"article\"]]\n",
    "    # Tokenizza il batch\n",
    "    tokens = tokenizer(cleaned_articles, truncation=False)\n",
    "    # Conta i token e salvaloi in una nuova colonna\n",
    "    return {\n",
    "        \"article_clean\": cleaned_articles,   # 👈 così vedi i testi puliti\n",
    "        \"article_token_len\": [len(ids) for ids in tokens[\"input_ids\"]]\n",
    "    }\n",
    "processed = cnn_dataset.map(preprocess, batched=True, batch_size=1000, remove_columns=[\"article\", \"id\"] )\n",
    "cnn_dataset = concatenate_datasets([processed[\"train\"], processed[\"validation\"], processed[\"test\"]])\n",
    "print(type(cnn_dataset))"
   ]
  },
  {
   "cell_type": "markdown",
   "id": "e0e59846",
   "metadata": {},
   "source": [
    "## Data cleaning con pandas\n",
    "eclusione della colonna id, esclusione delle righe con campi vuoti"
   ]
  },
  {
   "cell_type": "code",
   "execution_count": null,
   "id": "28a25860",
   "metadata": {},
   "outputs": [
    {
     "name": "stdout",
     "output_type": "stream",
     "text": [
      "<class 'pandas.core.frame.DataFrame'>\n"
     ]
    }
   ],
   "source": [
    "import pandas as pd\n",
    "# convertiamo il  Dataset in un Dataframe pandas\n",
    "df_cnn_dailymail = cnn_dataset.to_pandas()\n",
    "print(type(df_cnn_dailymail))\n"
   ]
  },
  {
   "cell_type": "code",
   "execution_count": null,
   "id": "4d2c7664",
   "metadata": {},
   "outputs": [],
   "source": []
  },
  {
   "cell_type": "code",
   "execution_count": 6,
   "id": "69c80d30",
   "metadata": {},
   "outputs": [
    {
     "data": {
      "text/plain": [
       "highlights           0\n",
       "article_clean        0\n",
       "article_token_len    0\n",
       "dtype: int64"
      ]
     },
     "metadata": {},
     "output_type": "display_data"
    },
    {
     "data": {
      "text/html": [
       "<div>\n",
       "<style scoped>\n",
       "    .dataframe tbody tr th:only-of-type {\n",
       "        vertical-align: middle;\n",
       "    }\n",
       "\n",
       "    .dataframe tbody tr th {\n",
       "        vertical-align: top;\n",
       "    }\n",
       "\n",
       "    .dataframe thead th {\n",
       "        text-align: right;\n",
       "    }\n",
       "</style>\n",
       "<table border=\"1\" class=\"dataframe\">\n",
       "  <thead>\n",
       "    <tr style=\"text-align: right;\">\n",
       "      <th></th>\n",
       "      <th>highlights</th>\n",
       "      <th>article_clean</th>\n",
       "      <th>article_token_len</th>\n",
       "    </tr>\n",
       "  </thead>\n",
       "  <tbody>\n",
       "    <tr>\n",
       "      <th>0</th>\n",
       "      <td>Harry Potter star Daniel Radcliffe gets £20M f...</td>\n",
       "      <td>Harry Potter star Daniel Radcliffe gains acces...</td>\n",
       "      <td>557</td>\n",
       "    </tr>\n",
       "    <tr>\n",
       "      <th>1</th>\n",
       "      <td>Mentally ill inmates in Miami are housed on th...</td>\n",
       "      <td>The ninth floor of the Miami-Dade pretrial det...</td>\n",
       "      <td>808</td>\n",
       "    </tr>\n",
       "    <tr>\n",
       "      <th>2</th>\n",
       "      <td>NEW: \"I thought I was going to die,\" driver sa...</td>\n",
       "      <td>Drivers who were on the Minneapolis bridge whe...</td>\n",
       "      <td>909</td>\n",
       "    </tr>\n",
       "    <tr>\n",
       "      <th>3</th>\n",
       "      <td>Five small polyps found during procedure; \"non...</td>\n",
       "      <td>Doctors removed five small polyps from Preside...</td>\n",
       "      <td>526</td>\n",
       "    </tr>\n",
       "    <tr>\n",
       "      <th>4</th>\n",
       "      <td>NEW: NFL chief, Atlanta Falcons owner critical...</td>\n",
       "      <td>The National Football League has indefinitely ...</td>\n",
       "      <td>1191</td>\n",
       "    </tr>\n",
       "  </tbody>\n",
       "</table>\n",
       "</div>"
      ],
      "text/plain": [
       "                                          highlights  \\\n",
       "0  Harry Potter star Daniel Radcliffe gets £20M f...   \n",
       "1  Mentally ill inmates in Miami are housed on th...   \n",
       "2  NEW: \"I thought I was going to die,\" driver sa...   \n",
       "3  Five small polyps found during procedure; \"non...   \n",
       "4  NEW: NFL chief, Atlanta Falcons owner critical...   \n",
       "\n",
       "                                       article_clean  article_token_len  \n",
       "0  Harry Potter star Daniel Radcliffe gains acces...                557  \n",
       "1  The ninth floor of the Miami-Dade pretrial det...                808  \n",
       "2  Drivers who were on the Minneapolis bridge whe...                909  \n",
       "3  Doctors removed five small polyps from Preside...                526  \n",
       "4  The National Football League has indefinitely ...               1191  "
      ]
     },
     "metadata": {},
     "output_type": "display_data"
    }
   ],
   "source": [
    "\n",
    "\n",
    "# rimuoviamo righe con valori vuoti\n",
    "display(df_cnn_dailymail.isnull().sum())\n",
    "\n",
    "display(df_cnn_dailymail.head())"
   ]
  },
  {
   "cell_type": "markdown",
   "id": "0a14e09a",
   "metadata": {},
   "source": [
    "### Analisi sulle lunghezze di riassunti e articoli"
   ]
  },
  {
   "cell_type": "code",
   "execution_count": 7,
   "id": "18f46220",
   "metadata": {},
   "outputs": [
    {
     "name": "stdout",
     "output_type": "stream",
     "text": [
      "(162, 5)\n"
     ]
    }
   ],
   "source": [
    "# nuove colonne con le lunghezze di articoli e riassunti\n",
    "df_cnn_dailymail[\"article_len\"] = df_cnn_dailymail[\"article_clean\"].map(lambda x: len(x.split()))\n",
    "df_cnn_dailymail[\"highlights_len\"] = df_cnn_dailymail[\"highlights\"].map(lambda x: len(x.split()))\n",
    "#percentuale lunghezza riassunto/lunghezza testo\n",
    "df_troppo_corti = df_cnn_dailymail[df_cnn_dailymail[\"highlights_len\"]/df_cnn_dailymail[\"article_len\"] < 1/100]\n",
    "df_troppo_corti.to_html(\"df_troppo_corti.html\", index=False)\n",
    "print(df_troppo_corti.shape)\n",
    "\n",
    "\n"
   ]
  },
  {
   "cell_type": "code",
   "execution_count": null,
   "id": "c2b22055",
   "metadata": {},
   "outputs": [],
   "source": []
  },
  {
   "cell_type": "code",
   "execution_count": 8,
   "id": "699d32de",
   "metadata": {},
   "outputs": [
    {
     "name": "stdout",
     "output_type": "stream",
     "text": [
      "Articoli oltre i 1024 token: 92030\n"
     ]
    }
   ],
   "source": [
    "\n",
    "count = (df_cnn_dailymail[\"article_token_len\"] > 1024).sum()\n",
    "print(\"Articoli oltre i 1024 token:\", count)"
   ]
  },
  {
   "cell_type": "code",
   "execution_count": null,
   "id": "dd9c5ed4",
   "metadata": {},
   "outputs": [],
   "source": []
  }
 ],
 "metadata": {
  "kernelspec": {
   "display_name": "NLP_sumarization (3.12.9)",
   "language": "python",
   "name": "python3"
  },
  "language_info": {
   "codemirror_mode": {
    "name": "ipython",
    "version": 3
   },
   "file_extension": ".py",
   "mimetype": "text/x-python",
   "name": "python",
   "nbconvert_exporter": "python",
   "pygments_lexer": "ipython3",
   "version": "3.12.9"
  }
 },
 "nbformat": 4,
 "nbformat_minor": 5
}
